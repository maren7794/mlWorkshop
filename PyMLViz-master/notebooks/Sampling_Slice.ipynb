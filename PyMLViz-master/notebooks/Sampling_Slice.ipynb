{
 "cells": [
  {
   "cell_type": "code",
   "execution_count": 1,
   "metadata": {},
   "outputs": [
    {
     "name": "stderr",
     "output_type": "stream",
     "text": [
      "sys:1: UserWarning: Your current version of bqplot (0.10.5) is older then the one used in tests (0.11). It is recommended to uprgade it.\n"
     ]
    }
   ],
   "source": [
    "%run ../widgets/config_check.py"
   ]
  },
  {
   "cell_type": "code",
   "execution_count": 2,
   "metadata": {},
   "outputs": [],
   "source": [
    "# <api>\n",
    "import numpy as np\n",
    "from scipy.stats import norm, multivariate_normal\n",
    "from scipy.special import logsumexp\n",
    "from matplotlib import pyplot as plt\n",
    "%matplotlib inline\n",
    "\n",
    "# Load classes and functions from the previous parts\n",
    "from jupyter_cms.loader import load_notebook\n",
    "smpl_intro = load_notebook('./Sampling_Intro.ipynb')\n",
    "smpl_rej = load_notebook('./Sampling_Rejection.ipynb')\n",
    "\n",
    "import os\n",
    "path = os.getcwd()\n",
    "s = '/'\n",
    "pardir = s.join(path.split(s)[:-1])\n",
    "# Load widgets\n",
    "smpl_widgets = load_notebook(str(pardir + '/widgets/2D_sampling_widget.ipynb'))"
   ]
  },
  {
   "cell_type": "markdown",
   "metadata": {},
   "source": [
    "# Slice Sampling"
   ]
  },
  {
   "cell_type": "markdown",
   "metadata": {},
   "source": [
    "Slice sampling is an example of an auxiliary variable method. In this case, the state space is enlarged to $x, u$ and sampling from a target distribution $p(x,u)$ instead. To obtain samples from $p(x)$ the $u$-component can simpy be dropped as\n",
    "$$ \\mathbb{E}_p[f] = \\int f(x) p(x) dx = \\int \\int f(x) p(x,u) dx du \\approx \\frac{1}{N} \\sum_{i=1}^N f(x_i) $$"
   ]
  },
  {
   "cell_type": "markdown",
   "metadata": {},
   "source": [
    "Slice sampling aims to sample uniformly from the region below $p(x)$, i.e. $p(x,u) = Uniform(\\{x,u: 0 < u < p(x)\\})$. It does this by interleaving two Gibbs steps:\n",
    "\n",
    "1. Sample $u \\sim p(u|x) = Uniform(0, p(x))$\n",
    "2. Sample $x \\sim p(x|u) = Uniform(\\{x : u < p(x)\\})$\n",
    "\n",
    "The second step requires a method to sample uniformly from the so called *slice*, i.e. the set of all $x$ with probability at least $u$. In high-dimensional spaces this is often infeasible and slice sampling is usually formulated for a 1-dimensional $x$. In this case, the slice can be obtain by an adaptive procedure which expands and shrinks a range around the current sample. In this sense, slice sampling can be considered as a Metropolis-Hastings sampling which adapts its proposal distribution to the width of the probable region.\n",
    "\n",
    "**Exercise:** Show that the slice adjustment in the algorithm below leaves the uniform target density invariant."
   ]
  },
  {
   "cell_type": "code",
   "execution_count": 3,
   "metadata": {},
   "outputs": [],
   "source": [
    "# <api>\n",
    "class SliceSampling (smpl_intro.Sampling):\n",
    "    def __init__ (self, log_p, x, w):\n",
    "        self.log_p = log_p\n",
    "        self.x = x\n",
    "        self.w = w\n",
    "        self.samples = 0\n",
    "        self.evals = 0\n",
    "        \n",
    "    def _log_p (self, x):\n",
    "        self.evals += 1\n",
    "        return self.log_p(x)\n",
    "    \n",
    "    def sample (self):\n",
    "        self.samples += 1\n",
    "        # Slice sampling as in MacKay pp. 375\n",
    "        log_px = self._log_p(self.x)\n",
    "        log_u_prime = np.log(np.random.uniform(low=0, high=np.exp(log_px)))\n",
    "        # Create interval\n",
    "        r = np.random.uniform()\n",
    "        xl = self.x - r*self.w\n",
    "        xr = self.x + (1-r)*self.w\n",
    "        while (self._log_p(xl) > log_u_prime): \n",
    "            xl -= self.w\n",
    "        while (self._log_p(xr) > log_u_prime):\n",
    "            xr += self.w\n",
    "        # Main sampling loop\n",
    "        while True:\n",
    "            x_prime = np.random.uniform(low=xl, high=xr)\n",
    "            log_px_prime = self._log_p(x_prime)\n",
    "            if log_px_prime > log_u_prime:\n",
    "                self.x = x_prime\n",
    "                return x_prime # Found new sample\n",
    "            else:\n",
    "                # Adjust interval\n",
    "                if x_prime > self.x:\n",
    "                    xr = x_prime\n",
    "                else:\n",
    "                    xl = x_prime\n",
    "        \n",
    "    def __str__ (self):\n",
    "        return \"Slice sampling: %d evaluations for %d samples\" % (self.evals, self.samples)"
   ]
  },
  {
   "cell_type": "code",
   "execution_count": 4,
   "metadata": {
    "scrolled": false
   },
   "outputs": [
    {
     "data": {
      "application/vnd.jupyter.widget-view+json": {
       "model_id": "08299c9836af4f9faf9b76508eb31704",
       "version_major": 2,
       "version_minor": 0
      },
      "text/plain": [
       "HBox(children=(Button(description='Redraw', style=ButtonStyle()), IntSlider(value=7, continuous_update=False, …"
      ]
     },
     "metadata": {},
     "output_type": "display_data"
    },
    {
     "data": {
      "application/vnd.jupyter.widget-view+json": {
       "model_id": "07cff585e297480288b2c497511fb155",
       "version_major": 2,
       "version_minor": 0
      },
      "text/plain": [
       "Output()"
      ]
     },
     "metadata": {},
     "output_type": "display_data"
    },
    {
     "name": "stdout",
     "output_type": "stream",
     "text": [
      "Slice sampling: 6601 evaluations for 1000 samples\n"
     ]
    }
   ],
   "source": [
    "sampling = SliceSampling(log_p=lambda x: np.log(smpl_rej.p(x)), x=-3.0, w=1.5)\n",
    "\n",
    "smpl_intro.show_sampling(sampling, plotter=smpl_intro.gauss_hist, N=1000)\n",
    "print(sampling)"
   ]
  },
  {
   "cell_type": "markdown",
   "metadata": {},
   "source": [
    "Slice sampling can be applied to multivariate distributions by sampling in different 1-dimensional directions. Most often the directions are just chosen as the coordinate axis and, similar to Gibbs sampling, all coordinates are sampled in sequence.\n",
    "\n",
    "Here, we apply this scheme to the 2-dimensional Gaussian example:"
   ]
  },
  {
   "cell_type": "code",
   "execution_count": 5,
   "metadata": {},
   "outputs": [],
   "source": [
    "# <api>\n",
    "class MultiSampling (smpl_intro.Sampling):\n",
    "    \"\"\"\n",
    "    Class that wraps a one-dimensional sampler and applies it to \n",
    "    a sequence of given directions to produce a new sample\n",
    "    \"\"\"\n",
    "    def __init__(self, uni_sampler, log_p, x, directions):\n",
    "        \"\"\"\n",
    "        uni_sampler is called with a log_p function and current sample x.\n",
    "        It needs to return a valid sampler which is then asked to draw a sample.\n",
    "        \"\"\"\n",
    "        self.uni_sampler = uni_sampler\n",
    "        self.log_p = log_p\n",
    "        self.x = x\n",
    "        self.directions = directions\n",
    "        \n",
    "    def sample (self):\n",
    "        # Loop through directions\n",
    "        for d in self.directions:\n",
    "            uni_log_p = lambda ux: self.log_p(self.x + ux*d)\n",
    "            ux_prime = self.uni_sampler(uni_log_p, 0).sample()\n",
    "            self.x = self.x + ux_prime*d\n",
    "        return self.x"
   ]
  },
  {
   "cell_type": "code",
   "execution_count": 6,
   "metadata": {},
   "outputs": [
    {
     "data": {
      "image/png": "[encoded data removed]",
      "text/plain": [
       "<Figure size 432x288 with 1 Axes>"
      ]
     },
     "metadata": {},
     "output_type": "display_data"
    }
   ],
   "source": [
    "sampling = MultiSampling(lambda log_p, x: SliceSampling(log_p, x, w=1.0), \\\n",
    "                         log_p=smpl_rej.p2d.logpdf, \\\n",
    "                         x=np.array([1.5,0]), \\\n",
    "                         directions=[np.array([1,0]), np.array([0,1])])\n",
    "samples = [sampling.sample() for _ in range(1000)]\n",
    "plt.plot(np.array(samples)[:,0], np.array(samples)[:,1], 'r-')\n",
    "plt.xlabel('x', fontsize=15)\n",
    "plt.ylabel('y', fontsize=15)\n",
    "plt.title('Sampling a 2D Gaussian via slice sampling', fontsize=15)\n",
    "plt.contour(smpl_rej.X, smpl_rej.Y, smpl_rej.p2d.pdf(smpl_rej.XY));"
   ]
  },
  {
   "cell_type": "markdown",
   "metadata": {},
   "source": [
    "By choosing the sampling directions more cleverly, we can substantially reduce the random walk behavior and improve the efficiency of sampling from the 2-dimensional Gaussian."
   ]
  },
  {
   "cell_type": "code",
   "execution_count": 7,
   "metadata": {
    "scrolled": true
   },
   "outputs": [
    {
     "data": {
      "image/png": "[encoded data removed]",
      "text/plain": [
       "<Figure size 432x288 with 1 Axes>"
      ]
     },
     "metadata": {},
     "output_type": "display_data"
    }
   ],
   "source": [
    "sampling = MultiSampling(lambda log_p, x: SliceSampling(log_p, x, w=1.0), \\\n",
    "                         log_p=smpl_rej.p2d.logpdf, \\\n",
    "                         x=np.array([1.5,0]), \\\n",
    "                         directions=[np.array([1,1]), np.array([1,-1])])\n",
    "samples = [sampling.sample() for _ in range(100)]\n",
    "plt.plot(np.array(samples)[:,0], np.array(samples)[:,1], 'r-')\n",
    "plt.xlabel('x', fontsize=15)\n",
    "plt.ylabel('y', fontsize=15)\n",
    "plt.title('Sampling a 2D Gaussian via slice sampling', fontsize=15)\n",
    "plt.contour(smpl_rej.X, smpl_rej.Y, smpl_rej.p2d.pdf(smpl_rej.XY));"
   ]
  },
  {
   "cell_type": "code",
   "execution_count": 8,
   "metadata": {},
   "outputs": [
    {
     "data": {
      "application/vnd.jupyter.widget-view+json": {
       "model_id": "dd41fdea57d94bf6832ffbd616582bc5",
       "version_major": 2,
       "version_minor": 0
      },
      "text/plain": [
       "HBox(children=(Figure(axes=[Axis(num_ticks=7, scale=LinearScale(max=3.0, min=-3.0)), Axis(num_ticks=7, orienta…"
      ]
     },
     "metadata": {},
     "output_type": "display_data"
    }
   ],
   "source": [
    "widget = smpl_widgets.SamplingWidget(method='MSSD', target='MN')\n",
    "widget.show()"
   ]
  },
  {
   "cell_type": "code",
   "execution_count": null,
   "metadata": {},
   "outputs": [],
   "source": []
  }
 ],
 "metadata": {
  "@webio": {
   "lastCommId": "e53d43d4fe374c768ac66db4c081f516",
   "lastKernelId": "4a05670b-8cc2-4b3f-ab50-dc761429352d"
  },
  "kernelspec": {
   "display_name": "Python 3",
   "language": "python",
   "name": "python3"
  },
  "language_info": {
   "codemirror_mode": {
    "name": "ipython",
    "version": 3
   },
   "file_extension": ".py",
   "mimetype": "text/x-python",
   "name": "python",
   "nbconvert_exporter": "python",
   "pygments_lexer": "ipython3",
   "version": "3.6.5"
  }
 },
 "nbformat": 4,
 "nbformat_minor": 1
}
