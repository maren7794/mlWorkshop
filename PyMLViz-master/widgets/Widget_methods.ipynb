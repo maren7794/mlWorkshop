{
 "cells": [
  {
   "cell_type": "markdown",
   "metadata": {},
   "source": [
    "# Methods for 2D animation widgets\n",
    "\n",
    "'Drawing' is an abstract general class for animation. Its customization for 'SamplingWidget' - 'Sampling' has subclasses for different sampling methods. 'Drawing' and 'Sampling' can produce only one data point (sample) at a time and can take functions as arguments, which can cause difficulties in work with widgets. Therefore, they are wrapped in 'DrawingMethod' and 'SamplingMethod', those can produce a sequence of data points (samples)."
   ]
  },
  {
   "cell_type": "code",
   "execution_count": null,
   "metadata": {},
   "outputs": [],
   "source": [
    "# <api>\n",
    "import numpy as np\n",
    "from scipy.stats import multivariate_normal"
   ]
  },
  {
   "cell_type": "code",
   "execution_count": null,
   "metadata": {},
   "outputs": [],
   "source": [
    "# <api>\n",
    "import os\n",
    "path = os.getcwd()\n",
    "s = '/'\n",
    "pardir = s.join(path.split(s)[:-1])"
   ]
  },
  {
   "cell_type": "code",
   "execution_count": null,
   "metadata": {},
   "outputs": [],
   "source": [
    "# <api>\n",
    "# Load targets\n",
    "from jupyter_cms.loader import load_notebook\n",
    "trgt = load_notebook(str(pardir + '/widgets/Widget_targets.ipynb'))"
   ]
  },
  {
   "cell_type": "markdown",
   "metadata": {},
   "source": [
    "## Drawing"
   ]
  },
  {
   "cell_type": "code",
   "execution_count": null,
   "metadata": {},
   "outputs": [],
   "source": [
    "# <api>\n",
    "class Drawing (object):\n",
    "    \"\"\"\n",
    "    Abstract base class for all drawing methods.\n",
    "    \n",
    "    Subclasses need to implement self.make_point(), self.reset_counters().\n",
    "    \"\"\"\n",
    "    def make_point(self):\n",
    "        pass\n",
    "    \n",
    "    def reset_counters(self):\n",
    "        try:\n",
    "            self.num_samples = 0\n",
    "            self.accepted = 0\n",
    "        except:\n",
    "            pass\n",
    "    \n",
    "    def reset_start(self, x=None, size=3):\n",
    "        if (x is None):\n",
    "            self.x = np.array([np.random.random_sample()*1.8*size - 0.9*size, \n",
    "                               np.random.random_sample()*1.8*size - 0.9*size])\n",
    "        else:\n",
    "            self.x = x\n",
    "\n",
    "    \n",
    "    def __str__(self):       \n",
    "        return str(self.__class__)   "
   ]
  },
  {
   "cell_type": "markdown",
   "metadata": {},
   "source": [
    "## DrawingMethod"
   ]
  },
  {
   "cell_type": "code",
   "execution_count": null,
   "metadata": {},
   "outputs": [],
   "source": [
    "# <api>\n",
    "class DrawingMethod(object):\n",
    "    '''An abstract wrapper around Drawing object. Produces a set of points, created by Drawing.'''  \n",
    "        \n",
    "    def draw(self):\n",
    "        pass"
   ]
  }
 ],
 "metadata": {
  "kernelspec": {
   "display_name": "Python 3",
   "language": "python",
   "name": "python3"
  },
  "language_info": {
   "codemirror_mode": {
    "name": "ipython",
    "version": 3
   },
   "file_extension": ".py",
   "mimetype": "text/x-python",
   "name": "python",
   "nbconvert_exporter": "python",
   "pygments_lexer": "ipython3",
   "version": "3.6.6"
  }
 },
 "nbformat": 4,
 "nbformat_minor": 1
}
