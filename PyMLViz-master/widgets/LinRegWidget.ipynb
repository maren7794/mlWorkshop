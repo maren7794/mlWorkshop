{
 "cells": [
  {
   "cell_type": "code",
   "execution_count": null,
   "metadata": {
    "extensions": {
     "jupyter_dashboards": {
      "version": 1,
      "views": {
       "grid_default": {
        "hidden": true
       },
       "report_default": {}
      }
     }
    }
   },
   "outputs": [],
   "source": [
    "# <api>\n",
    "#The interactive plots are created by using the libraries bqplot and ipywidgets\n",
    "import matplotlib.pyplot as plt\n",
    "import numpy as np\n",
    "import bqplot\n",
    "from ipywidgets import widgets, Layout\n",
    "from IPython.display import display, clear_output"
   ]
  },
  {
   "cell_type": "code",
   "execution_count": null,
   "metadata": {
    "extensions": {
     "jupyter_dashboards": {
      "version": 1,
      "views": {
       "grid_default": {
        "hidden": true
       },
       "report_default": {}
      }
     }
    }
   },
   "outputs": [],
   "source": [
    "# <api>\n",
    "class InterceptFeature:\n",
    "    \"\"\"\n",
    "    Constant intercept feature\n",
    "    \"\"\"\n",
    "    def transform(self, x):\n",
    "        return np.hstack([np.ones((x.shape[0], 1)), x])\n",
    "\n",
    "class PolynomialFeatures:\n",
    "    \"\"\"\n",
    "    Polynomial features\n",
    "    \"\"\"\n",
    "    def __init__(self, degree):\n",
    "        self.__degree = degree\n",
    "    \n",
    "    def transform(self, x):\n",
    "        \"\"\"\n",
    "        Compute features x**i for i = 0, ..., degree\n",
    "        \"\"\"\n",
    "        return np.hstack([x**i for i in range(self.__degree + 1)])\n",
    "    \n",
    "class GaussianBasisFunctions():\n",
    "    \"\"\"\n",
    "    Transform the input with a gaussian function of the form:\n",
    "    phi = exp(- kernelsize(=500) * (phi - mu) ** 2)\n",
    "    \"\"\"\n",
    "    def __init__(self, mus, sigma = 1.0):\n",
    "        self.mus = mus\n",
    "        self.sigma = sigma\n",
    "      \n",
    "    def transform(self, X):\n",
    "        phi = np.repeat(X,np.shape(self.mus)[0], axis = 1)\n",
    "        phi_trans = phi.T - self.mus\n",
    "        phi_trans = np.exp(- 0.5 / self.sigma**2 * phi_trans.T**2)\n",
    "        return phi_trans    \n",
    "    \n",
    "class Pipeline:\n",
    "    \"\"\"\n",
    "    Model pipeline of preprocessing steps and actual model\n",
    "    \"\"\"\n",
    "    def __init__(self, steps):\n",
    "        self.steps = steps\n",
    "    def fit(self, X, y):\n",
    "        for step in self.steps[:-1]:\n",
    "            X = step.transform(X)\n",
    "        ## Last step of pipeline is actual model\n",
    "        self.steps[-1].fit(X, y)\n",
    "        self.weights = self.steps[-1].weights_\n",
    "        return self\n",
    "    def predict(self, X):\n",
    "        for step in self.steps[:-1]:\n",
    "            X = step.transform(X)\n",
    "        return self.steps[-1].predict(X)"
   ]
  },
  {
   "cell_type": "code",
   "execution_count": null,
   "metadata": {
    "extensions": {
     "jupyter_dashboards": {
      "version": 1,
      "views": {
       "grid_default": {
        "hidden": true
       },
       "report_default": {}
      }
     }
    }
   },
   "outputs": [],
   "source": [
    "# <api>\n",
    "class LinearRegressionL2:\n",
    "    \"\"\"\n",
    "    Linear regression with L2 regularization\n",
    "    \"\"\"\n",
    "    \n",
    "    def __init__(self, lam):\n",
    "        \"\"\"\n",
    "        Create a linear regression model\n",
    "        t = X w\n",
    "        \n",
    "        that minimizes\n",
    "        ||X w - t||_2 + \\\\lambda || w ||_2\n",
    "        \"\"\"\n",
    "        self.weights_ = None\n",
    "        self.lambda_ = lam\n",
    "        \n",
    "    def fit(self, X, t):\n",
    "        \"\"\"\n",
    "        Fit linear model on training data D = (X, t)\n",
    "        \"\"\"\n",
    "        num_samples, num_features = X.shape\n",
    "        self.weights_ = np.linalg.solve(np.dot(X.T, X) + self.lambda_ * np.identity(num_features),\n",
    "                                        np.dot(X.T, t))\n",
    "        \n",
    "        return self\n",
    "    \n",
    "    def predict(self, X):\n",
    "        \"\"\"\n",
    "        Predict model response on inputs X\n",
    "        \"\"\"\n",
    "        num_samples, num_features = X.shape\n",
    "        \n",
    "        return np.dot(X, self.weights_)"
   ]
  },
  {
   "cell_type": "code",
   "execution_count": null,
   "metadata": {
    "extensions": {
     "jupyter_dashboards": {
      "version": 1,
      "views": {
       "grid_default": {
        "hidden": true
       },
       "report_default": {}
      }
     }
    }
   },
   "outputs": [],
   "source": [
    "# <api>\n",
    "class LinRegWidget:\n",
    "    \"\"\"\n",
    "    Interactive widget for demonstration of linear regression.\n",
    "    \"\"\"\n",
    "    \n",
    "    def __init__(self, N=10, data='Linear', model='Linear', L2=True):\n",
    "        \"\"\"\n",
    "        Initialize the widget.\n",
    "        \n",
    "        Args:\n",
    "            N [int]: a number of initial points.\n",
    "            data [str]: a type of data set. Can be choosen from:\n",
    "                - 'Linear', \n",
    "                - 'Sinusoidal', \n",
    "                - 'Quadratic'.\n",
    "            model [str]: a type of model (basis functions). Can be choosen from:\n",
    "                - 'Linear',\n",
    "                - 'Polynom', \n",
    "                - 'RBF'.\n",
    "            L2 [bool]: if True the widget will be initialized with L2 regularization,\n",
    "                False - not regularized.\n",
    "        \"\"\"\n",
    "        # Create subwidgets\n",
    "        self.sigma = widgets.FloatSlider(1, min = 0.1, max = 2, step = 0.02, description = \"RBF width\")\n",
    "        self.deg = widgets.IntSlider(2, min = 0, max = N-1, step = 1, description = \"Poly degree\")       \n",
    "        self.log_lam = widgets.FloatSlider(0, min = -10, max = 3, step = 0.01, \n",
    "                                           description = \"Log lambda\", disabled=(not L2))\n",
    "        self.data = widgets.Dropdown(options = ['Linear', 'Sinusoidal', 'Quadratic'],                             \n",
    "                                     description = 'Data set')\n",
    "        self.regularized = widgets.Checkbox(value=L2, description='L2 regularization', disabled=False)        \n",
    "        self.htitle = 'Linear Regression'\n",
    "        self.button_redraw = widgets.Button(description=\"Redraw\")\n",
    "        self.message = '<h4 style=\"color:Tomato;\">Polynom degree is too high, expect difficulties by plotting!</h4>'\n",
    "        self.label = widgets.HTML(value='')\n",
    "        #self.label = widgets.Label(value='Label', color='red')\n",
    "        self.tab = widgets.Tab(children=[widgets.VBox([self.log_lam]), \n",
    "                                         widgets.VBox([self.deg, self.log_lam]),\n",
    "                                         widgets.VBox([self.sigma, self.log_lam])],\n",
    "                                 _titles = {'0': 'Linear', '1': 'Polynom', '2': 'RBF'})\n",
    "        self.weights = widgets.HTML(value='', description='Weights:', disabled=False)\n",
    "        \n",
    "        # Choose regularization\n",
    "        self.last_lam = np.copy(self.log_lam.value)\n",
    "        if not L2:\n",
    "            self.log_lam.value = -np.inf        \n",
    "        \n",
    "        # Choose the dataset\n",
    "        try:\n",
    "            self.data.value = data\n",
    "        except:\n",
    "            raise ValueError('Unknown data set. Choose between Linear/Sinusoidal/Quadratic.')  \n",
    "        \n",
    "        # Choose the model (basis functions)\n",
    "        if model=='Linear':\n",
    "            self.tab.selected_index='0'\n",
    "        elif model=='Polynom':\n",
    "            self.tab.selected_index='1'\n",
    "        elif model=='RBF':\n",
    "            self.tab.selected_index='2'\n",
    "        else:\n",
    "            raise ValueError('Unknown model. Choose between Linear/Polynom/RBF.')\n",
    "        \n",
    "        # Define internal constants\n",
    "        self.N = N        #Number of points\n",
    "        self.size = 10    #Size of the plot (not usefull)\n",
    "        \n",
    "        # Draw samples from the dataset\n",
    "        self.redraw()\n",
    "        \n",
    "        # Create elements of the canvas \n",
    "        self.sc_x = bqplot.LinearScale()\n",
    "        self.sc_y = bqplot.LinearScale(min = -self.size, max = self.size)\n",
    "        self.scat = bqplot.Scatter(x = self.xdata[self.data.value], \n",
    "                            y = self.ydata[self.data.value],\n",
    "                            scales = {'x':self.sc_x, 'y':self.sc_y},\n",
    "                            colors = ['violet'], marker = 'diamond', \n",
    "                            enable_move = True)\n",
    "        self.line = bqplot.Lines(x = [],y = [], scales = {'x':self.sc_x, 'y':self.sc_y}, \n",
    "                          display_legend = False, labels=['prediction'])        \n",
    "        self.ax_x = bqplot.Axis(scale=self.sc_x, label='x data')\n",
    "        self.ax_y = bqplot.Axis(scale=self.sc_y, orientation='vertical', label='y data') \n",
    "        self.new_canvas()\n",
    "        \n",
    "        # Set callback functions       \n",
    "        self.button_redraw.on_click(self.redraw_function)\n",
    "        self.regularized.observe(self.update_tab, names = 'value')\n",
    "        self.deg.observe(self.update_line, names = 'value')        \n",
    "        self.sigma.observe(self.update_line, names = 'value')        \n",
    "        self.data.observe(self.update_all, names = 'value')        \n",
    "        self.tab.observe(self.update_line, names = 'selected_index')        \n",
    "        self.log_lam.observe(self.update_line, names = 'value')\n",
    "        \n",
    "    def show(self):\n",
    "        \"\"\"Show the widget.\"\"\"\n",
    "        display(self.ui, display_id='ui') \n",
    "        \n",
    "    def get_model(self):\n",
    "        \"\"\"Get the model.\"\"\"\n",
    "        if self.regularized.value == False:\n",
    "            lam = 0\n",
    "        else:\n",
    "            lam = np.exp(self.log_lam.value)\n",
    "        if self.tab.selected_index == 0:\n",
    "            return Pipeline([InterceptFeature(), LinearRegressionL2(lam)])\n",
    "        elif self.tab.selected_index == 1:\n",
    "            return Pipeline([PolynomialFeatures(self.deg.value), LinearRegressionL2(lam)])\n",
    "        else:\n",
    "            return Pipeline([GaussianBasisFunctions(np.linspace(-1, 2, 12)[:, None], self.sigma.value),\n",
    "                                                     InterceptFeature(),\n",
    "                                                     LinearRegressionL2(lam)])\n",
    "        \n",
    "    def new_canvas(self):\n",
    "        \"\"\"Create a new canvas.\"\"\"\n",
    "        self.scat = bqplot.Scatter(x = self.xdata[self.data.value], \n",
    "                            y = self.ydata[self.data.value],\n",
    "                            scales = {'x':self.sc_x, 'y':self.sc_y},\n",
    "                            colors = ['violet'], marker = 'diamond', \n",
    "                            enable_move = True)\n",
    "        \n",
    "        self.update_line()\n",
    "        self.canvas = bqplot.Figure(marks=[self.scat, self.line], \n",
    "                                    axes=[self.ax_x, self.ax_y], title = self.htitle)\n",
    "        self.ui = widgets.VBox([widgets.HBox([self.canvas, widgets.VBox([self.data, self.regularized, self.tab, \n",
    "                                                           self.button_redraw, \n",
    "                                                           self.weights])]),\n",
    "                                self.label])\n",
    "        # Enable the ability to move and add points\n",
    "        with self.scat.hold_sync():\n",
    "            self.scat.enable_move = True\n",
    "            self.scat.interactions = {'click': 'add'}\n",
    "            self.scat.observe(self.update_line, names=['x'])\n",
    "            self.scat.observe(self.update_line, names=['y'])\n",
    "    \n",
    "    def update_all(self, change=None):\n",
    "        \"\"\"A callback function for choosing a new dataset.\"\"\"\n",
    "        clear_output(wait=True)\n",
    "        self.new_canvas()\n",
    "        self.show()\n",
    "        \n",
    "    \n",
    "    def update_line(self, change=None):\n",
    "        \"\"\"A callback function for changing a model (basis functions) or their parameters.\"\"\"\n",
    "        if (self.regularized.value==False) and (self.tab.selected_index==1) and (self.deg.value >= self.N-1):\n",
    "            self.label.value = self.message\n",
    "        else:\n",
    "            self.label.value = ''\n",
    "        with self.line.hold_sync():\n",
    "            self.line.x = np.linspace(-self.size, self.size, 1001)\n",
    "            self.model = self.get_model()\n",
    "            self.model.fit(self.scat.x[:, None], self.scat.y)            \n",
    "            self.line.y = self.model.predict(self.line.x[:, None])\n",
    "            self.weights.value = self.weights2html(self.model.weights)\n",
    "            \n",
    "            \n",
    "            \n",
    "    def update_tab(self, change=None):\n",
    "        \"\"\"A callback function for choosing a regularization.\"\"\"\n",
    "        if self.regularized.value == False:\n",
    "            self.last_lam = np.copy(self.log_lam.value)\n",
    "            self.log_lam.disabled = True\n",
    "            self.log_lam.min = -np.inf\n",
    "            self.log_lam.value = -np.inf\n",
    "        else:\n",
    "            self.log_lam.disabled = False\n",
    "            self.log_lam.min = -10\n",
    "            self.log_lam.value = self.last_lam\n",
    "            \n",
    "        \n",
    "    def redraw_function(self, button):\n",
    "        '''Action, when Redraw button is clicked. Just a wrapper for self.redraw().''' \n",
    "        self.redraw()\n",
    "        self.update_all()\n",
    "        \n",
    "    def redraw(self):\n",
    "        \"\"\"Redraw the dataset.\"\"\"\n",
    "        x = np.random.uniform(size = self.N)*1.2*self.size - self.size*0.66\n",
    "        noise_level = np.random.uniform(low=0.1, high=0.3)\n",
    "        self.xdata = {'Linear': x,\n",
    "                      'Sinusoidal': x,\n",
    "                      'Quadratic': x}\n",
    "        self.ydata = {'Linear': np.random.uniform(low=-2, high=2.) * x - \\\n",
    "                                np.random.uniform(low=0.1, high=0.3) + \\\n",
    "                                noise_level * np.random.normal(size = self.N),\n",
    "                      'Sinusoidal': np.sin(np.random.uniform(low=0.2, high=0.7)*np.pi*x + \\\n",
    "                                          np.random.uniform(low=-1, high=1)) + \\\n",
    "                                          noise_level * np.random.normal(size = self.N),\n",
    "                      'Quadratic': x*x*np.random.uniform(low=0.3, high=1.5) - \\\n",
    "                                   self.size * np.random.uniform(low=0., high=1.) + \\\n",
    "                                   noise_level * np.random.normal(size = self.N)} \n",
    "        \n",
    "    def weights2html(self, weights):\n",
    "        \"\"\"Returns a HTML table for given array of weights. \"\"\"\n",
    "        html = '<table>'\n",
    "        for i in range(len(weights)):\n",
    "            html += '<tr><th> '+str(i)+': </th><th> '+'{:0.4f}'.format(weights[i])+'</th></tr>'\n",
    "        html += '</table>'\n",
    "        return html"
   ]
  },
  {
   "cell_type": "code",
   "execution_count": null,
   "metadata": {
    "extensions": {
     "jupyter_dashboards": {
      "version": 1,
      "views": {
       "grid_default": {
        "col": 0,
        "height": 20,
        "hidden": false,
        "row": 0,
        "width": null
       },
       "report_default": {}
      }
     }
    },
    "scrolled": false
   },
   "outputs": [],
   "source": [
    "lr = LinRegWidget(N=10, data='Sinusoidal', model='Polynom', L2=False)\n",
    "lr.show()"
   ]
  }
 ],
 "metadata": {
  "extensions": {
   "jupyter_dashboards": {
    "activeView": "grid_default",
    "version": 1,
    "views": {
     "grid_default": {
      "cellMargin": 10,
      "defaultCellHeight": 20,
      "maxColumns": 12,
      "name": "grid",
      "type": "grid"
     },
     "report_default": {
      "name": "report",
      "type": "report"
     }
    }
   }
  },
  "kernelspec": {
   "display_name": "Python 3",
   "language": "python",
   "name": "python3"
  },
  "language_info": {
   "codemirror_mode": {
    "name": "ipython",
    "version": 3
   },
   "file_extension": ".py",
   "mimetype": "text/x-python",
   "name": "python",
   "nbconvert_exporter": "python",
   "pygments_lexer": "ipython3",
   "version": "3.6.6"
  }
 },
 "nbformat": 4,
 "nbformat_minor": 2
}
